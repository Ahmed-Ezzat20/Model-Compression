{
 "cells": [
  {
   "cell_type": "markdown",
   "metadata": {},
   "source": [
    "# Library installation"
   ]
  },
  {
   "cell_type": "code",
   "execution_count": 23,
   "metadata": {},
   "outputs": [],
   "source": [
    "# !pip install transformers accelerate optimum-quanto\n",
    "# !pip install torch"
   ]
  },
  {
   "cell_type": "markdown",
   "metadata": {},
   "source": [
    "# GPU Check"
   ]
  },
  {
   "cell_type": "code",
   "execution_count": 24,
   "metadata": {},
   "outputs": [],
   "source": [
    "import torch\n",
    "\n",
    "device = torch.device(\"cuda:0\" if torch.cuda.is_available() else \"cpu\")"
   ]
  },
  {
   "cell_type": "markdown",
   "metadata": {},
   "source": [
    "# Model Quantization \n",
    "(weights-only quantization with 4-bit integer precision)"
   ]
  },
  {
   "cell_type": "code",
   "execution_count": 26,
   "metadata": {},
   "outputs": [
    {
     "name": "stderr",
     "output_type": "stream",
     "text": [
      "Loading checkpoint shards: 100%|██████████| 2/2 [00:01<00:00,  1.51it/s]\n"
     ]
    }
   ],
   "source": [
    "from transformers import AutoModelForCausalLM, AutoTokenizer, QuantoConfig\n",
    "from optimum.quanto import QuantizedModelForCausalLM, qint4\n",
    "\n",
    "model_id = \"meta-llama/Llama-3.2-3B\"\n",
    "tokenizer = AutoTokenizer.from_pretrained(model_id)\n",
    "\n",
    "quantization_config = QuantoConfig(weights=\"int4\") # weight quantization\n",
    "# quantization_config = QuantoConfig(activations=\"int4\") # activation quantization\n",
    "\n",
    "model = AutoModelForCausalLM.from_pretrained(\"meta-llama/Llama-3.2-3B\")\n",
    "model.to(device)\n",
    "quantized_model = QuantizedModelForCausalLM.quantize(model, weights=qint4, exclude='lm_head')"
   ]
  },
  {
   "cell_type": "code",
   "execution_count": 27,
   "metadata": {},
   "outputs": [
    {
     "name": "stdout",
     "output_type": "stream",
     "text": [
      "GPU memory utilization : 13.676368713378906 GB\n"
     ]
    }
   ],
   "source": [
    "free, total = torch.cuda.mem_get_info(device)\n",
    "mem_used_MB = (total - free) / 1024 ** 2\n",
    "print(f\"GPU memory utilization : {mem_used_MB/1024} GB\")"
   ]
  },
  {
   "cell_type": "markdown",
   "metadata": {},
   "source": [
    "# Inference over quantized model"
   ]
  },
  {
   "cell_type": "code",
   "execution_count": 28,
   "metadata": {},
   "outputs": [
    {
     "name": "stderr",
     "output_type": "stream",
     "text": [
      "The attention mask and the pad token id were not set. As a consequence, you may observe unexpected behavior. Please pass your input's `attention_mask` to obtain reliable results.\n",
      "Setting `pad_token_id` to `eos_token_id`:None for open-end generation.\n",
      "c:\\Users\\pc\\anaconda3\\envs\\Torch\\lib\\site-packages\\torch\\utils\\cpp_extension.py:380: UserWarning: Error checking compiler version for cl: [WinError 2] The system cannot find the file specified\n",
      "  warnings.warn(f'Error checking compiler version for {compiler}: {error}')\n",
      "c:\\Users\\pc\\anaconda3\\envs\\Torch\\lib\\site-packages\\optimum\\quanto\\library\\ops.py:66: UserWarning: An exception was raised while calling the optimized kernel for quanto::unpack: CUDA_HOME environment variable is not set. Please set it to your CUDA install root. Falling back to default implementation.\n",
      "  warnings.warn(message + \" Falling back to default implementation.\")\n",
      "c:\\Users\\pc\\anaconda3\\envs\\Torch\\lib\\site-packages\\optimum\\quanto\\library\\ops.py:66: UserWarning: An exception was raised while calling the optimized kernel for quanto::unpack: DLL load failed while importing quanto_cuda: The specified module could not be found. Falling back to default implementation.\n",
      "  warnings.warn(message + \" Falling back to default implementation.\")\n",
      "c:\\Users\\pc\\anaconda3\\envs\\Torch\\lib\\site-packages\\transformers\\models\\llama\\modeling_llama.py:602: UserWarning: 1Torch was not compiled with flash attention. (Triggered internally at C:\\actions-runner\\_work\\pytorch\\pytorch\\builder\\windows\\pytorch\\aten\\src\\ATen\\native\\transformers\\cuda\\sdp_utils.cpp:555.)\n",
      "  attn_output = torch.nn.functional.scaled_dot_product_attention(\n"
     ]
    },
    {
     "name": "stdout",
     "output_type": "stream",
     "text": [
      "What is multi-head attention in context of transformer? [closed]\n",
      "I am trying to understand the Transformer model and its attention mechanism. I have read many papers and articles on the Transformer but I am still not able to understand what is multi-head attention\n",
      "Took around 11.860067129135132 seconds.\n"
     ]
    }
   ],
   "source": [
    "import time\n",
    "t1 = time.time()\n",
    "\n",
    "prompt = \"What is multi-head attention in context of transformer?\"\n",
    "\n",
    "try:\n",
    "    input_ids = tokenizer([prompt], return_tensors=\"pt\")\n",
    "    input_ids = input_ids.input_ids.to(quantized_model.device)  # Use model's device\n",
    "\n",
    "    generated_tokens = quantized_model.generate(\n",
    "        input_ids,\n",
    "        max_length=50,\n",
    "    )\n",
    "\n",
    "    generated_text = tokenizer.decode(generated_tokens[0], skip_special_tokens=True)\n",
    "\n",
    "except RuntimeError as e:\n",
    "    print(f\"CUDA Error: {e}\")\n",
    "    print(\"Try moving model to CPU if GPU memory is insufficient\")\n",
    "    # Fallback to CPU if needed\n",
    "    # quantized_model = quantized_model.cpu()\n",
    "except Exception as e:\n",
    "    print(f\"Unexpected error: {e}\")\n",
    "\n",
    "t2 = time.time()\n",
    "print(generated_text)\n",
    "print(f\"Took around {t2-t1} seconds.\")"
   ]
  },
  {
   "cell_type": "code",
   "execution_count": 29,
   "metadata": {},
   "outputs": [],
   "source": [
    "quantized_model.save_pretrained('./Llama-3-8B-quantized')"
   ]
  }
 ],
 "metadata": {
  "kernelspec": {
   "display_name": "Torch",
   "language": "python",
   "name": "python3"
  },
  "language_info": {
   "codemirror_mode": {
    "name": "ipython",
    "version": 3
   },
   "file_extension": ".py",
   "mimetype": "text/x-python",
   "name": "python",
   "nbconvert_exporter": "python",
   "pygments_lexer": "ipython3",
   "version": "3.8.20"
  }
 },
 "nbformat": 4,
 "nbformat_minor": 2
}
